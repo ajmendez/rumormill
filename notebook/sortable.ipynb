{
 "metadata": {
  "name": "",
  "signature": "sha256:9b96798ec4e1c6d5559ade0b5fbf2676a3de0d0b3b0e91314fd6aa516d9bed84"
 },
 "nbformat": 3,
 "nbformat_minor": 0,
 "worksheets": [
  {
   "cells": [
    {
     "cell_type": "code",
     "collapsed": false,
     "input": [
      "import json\n",
      "import codecs\n",
      "import requests\n",
      "from bs4 import BeautifulSoup"
     ],
     "language": "python",
     "metadata": {},
     "outputs": [],
     "prompt_number": 23
    },
    {
     "cell_type": "code",
     "collapsed": false,
     "input": [
      "URL = 'http://jobregister.aas.org'\n",
      "CACHE = '/tmp/rumormill.json'\n",
      "def get_page(url):\n",
      "    try:\n",
      "        with json.load(open(CACHE,'r')) as j:\n",
      "            return j[url]\n",
      "    except:\n",
      "        page = requests.get(url).text\n",
      "        f = json.load(open(CACHE, 'r'))\n",
      "        f[url] = page\n",
      "        json.dump(f, open(CACHE, 'w'))\n",
      "        return page\n",
      "    \n",
      "#         with codecs.open(CACHE, \"r\") as f:\n",
      "#             print 'Loaded Cache!'\n",
      "#             return f.read()\n",
      "#     except:\n",
      "#         page = requests.get(URL).text\n",
      "#         with codecs.open(CACHE, \"w\", \"utf-8-sig\") as f:\n",
      "#             f.write(page)\n",
      "#         return page"
     ],
     "language": "python",
     "metadata": {},
     "outputs": [],
     "prompt_number": 30
    },
    {
     "cell_type": "code",
     "collapsed": false,
     "input": [
      "def build_main(url):\n",
      "    soup = BeautifulSoup(get_page(url))\n",
      "    s = soup.find('div', {'class':'pane-2'})\n",
      "    table = s.find('table')\n",
      "    out = {}\n",
      "    for tr in table.findAll('tr'):\n",
      "        if tr.get('class')[0] == 'JR_Table_Row_Category':\n",
      "            header = tr.text\n",
      "            out[header] = []\n",
      "            continue\n",
      "        elif tr.get('class')[0] == 'JR_Table_Row_Header':\n",
      "            continue\n",
      "        tmp = [td.text for td in tr.findAll('td')]\n",
      "        row = {'ident':tr.find('a').text.strip(),\n",
      "               'link':'{}/{}'.format(URL,tr.find('a').get('href')),\n",
      "               'title':tmp[1],\n",
      "               'org':tmp[2],\n",
      "               'date':tmp[3]}\n",
      "        out[header].append(row)\n",
      "    return out\n",
      "data = build_main(URL)"
     ],
     "language": "python",
     "metadata": {},
     "outputs": [],
     "prompt_number": 31
    },
    {
     "cell_type": "code",
     "collapsed": false,
     "input": [
      "def _clean(x):\n",
      "    return ' '.join([a.strip() for a in x.splitlines()]).strip()\n",
      "def build_indiv(url):\n",
      "    soup = BeautifulSoup(get_page(url))\n",
      "    s = soup#.find('div',{'class':'pane-content'})\n",
      "    for x in s.findAll('div'):\n",
      "        if x.get('class') is not None and x.get('class')[-1].startswith('field-field'):\n",
      "            print x.get('class')[-1], #''.join([s.strip() in x.text.splitlines()]).strip()\n",
      "    return\n",
      "    \n",
      "    items = ['ad-post-date','ad-archive-date','application-deadline',\n",
      "             'job-category','institution-name','institution-classification',\n",
      "#              'inquirie-email',\n",
      "#              'job-related-url',\n",
      "#              'attention-to-city','attention-state-province','attention-to-rganization',\n",
      "#              'attention-to-street-addres','field-field-attention-state-province',\n",
      "#              'field-field-zip-postal-code','field-field-attention-to-country',\n",
      "#              'field-field-attention-telephon','field-field-attention-to-email',\n",
      "             'attention-to','job-related-url','job-announcement','included-benefits']\n",
      "    out = {item:_clean(s.find('div',{'class':'field-field-'+item}).text) for item in items}\n",
      "    return out\n",
      "#     archive = s.find('div',{'class':'field-field-ad-archive-date'}).text\n",
      "#     datetime = s.find('div',{'class':'field-field-application-deadline'}).text\n",
      "#     print s.prettify()\n",
      "build_indiv('http://jobregister.aas.org/job_view?JobID=48719')"
     ],
     "language": "python",
     "metadata": {},
     "outputs": [
      {
       "output_type": "stream",
       "stream": "stdout",
       "text": [
        " field-field-ad-post-date field-field-ad-archive-date field-field-application-deadline field-field-job-category field-field-institution-name field-field-institution-classification field-field-attention-to field-field-job-related-url field-field-job-announcement field-field-included-benefits\n"
       ]
      }
     ],
     "prompt_number": 85
    },
    {
     "cell_type": "code",
     "collapsed": false,
     "input": [],
     "language": "python",
     "metadata": {},
     "outputs": []
    },
    {
     "cell_type": "code",
     "collapsed": false,
     "input": [],
     "language": "python",
     "metadata": {},
     "outputs": []
    }
   ],
   "metadata": {}
  }
 ]
}