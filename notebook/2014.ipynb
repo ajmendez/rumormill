{
 "metadata": {
  "name": "",
  "signature": "sha256:77d2e4d230d80951cc02699a493928eb736244e8f0ecc7d0aea1cc37eccf3315"
 },
 "nbformat": 3,
 "nbformat_minor": 0,
 "worksheets": [
  {
   "cells": [
    {
     "cell_type": "code",
     "collapsed": false,
     "input": [
      "import os\n",
      "import copy \n",
      "from rumormill import archive\n",
      "\n",
      "from pprint import pprint\n",
      "from bs4 import BeautifulSoup\n",
      "from dateutil.parser import parse"
     ],
     "language": "python",
     "metadata": {},
     "outputs": [],
     "prompt_number": 1
    },
    {
     "cell_type": "code",
     "collapsed": false,
     "input": [
      "reload(archive)\n",
      "archive.PARAMS['newver'] = 12\n",
      "archive.PARAMS['oldver'] = 11\n",
      "archive.PARAMS"
     ],
     "language": "python",
     "metadata": {},
     "outputs": [
      {
       "metadata": {},
       "output_type": "pyout",
       "prompt_number": 4,
       "text": [
        "{'compare': 'Compare',\n",
        " 'diff_style': 'unidiff',\n",
        " 'history_offset': 0,\n",
        " 'history_pagesize': 25,\n",
        " 'newver': 12,\n",
        " 'oldver': 11,\n",
        " 'page': 'Rumor+Mill',\n",
        " 'paginate': 'off',\n",
        " 'show_all_versions': 'y'}"
       ]
      }
     ],
     "prompt_number": 4
    },
    {
     "cell_type": "code",
     "collapsed": false,
     "input": [
      "\n",
      "result = archive.get_page()"
     ],
     "language": "python",
     "metadata": {},
     "outputs": [
      {
       "output_type": "stream",
       "stream": "stdout",
       "text": [
        "http://www.astrobetter.com/wiki/tiki-pagehistory.php?history_offset=0&compare=Compare&paginate=off&history_pagesize=25&oldver=11&newver=12&diff_style=unidiff&show_all_versions=y&page=Rumor+Mill\n"
       ]
      }
     ],
     "prompt_number": 5
    },
    {
     "cell_type": "code",
     "collapsed": false,
     "input": [
      "reload(archive)\n",
      "archive.get_info(result)"
     ],
     "language": "python",
     "metadata": {},
     "outputs": [
      {
       "metadata": {},
       "output_type": "pyout",
       "prompt_number": 68,
       "text": [
        "{'comment': u'\\nFixed headers, shortened add description',\n",
        " 'date': datetime.datetime(2014, 8, 18, 15, 8, tzinfo=tzlocal()),\n",
        " 'user': u'jlu',\n",
        " 'version': 11}"
       ]
      }
     ],
     "prompt_number": 68
    },
    {
     "cell_type": "code",
     "collapsed": false,
     "input": [
      "soup = (result.soup\n",
      "       .find('div', {'style':['text-align:center;']})\n",
      "       .find('table',{'class':'formcolor'}) \n",
      "#        .find('strong').findParents()[2]\n",
      ")\n",
      "# for s in soup.find_all('td'):\n",
      "#     print 'o', s.text"
     ],
     "language": "python",
     "metadata": {},
     "outputs": [],
     "prompt_number": 67
    },
    {
     "cell_type": "code",
     "collapsed": false,
     "input": [],
     "language": "python",
     "metadata": {},
     "outputs": []
    }
   ],
   "metadata": {}
  }
 ]
}