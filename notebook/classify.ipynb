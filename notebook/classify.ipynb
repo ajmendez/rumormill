{
 "metadata": {
  "name": "",
  "signature": "sha256:b15d0bb6f1af542d763d76fd0ae09fdd781b8e1b43a4e53c43a48b197249831c"
 },
 "nbformat": 3,
 "nbformat_minor": 0,
 "worksheets": [
  {
   "cells": [
    {
     "cell_type": "code",
     "collapsed": false,
     "input": [
      "import json\n",
      "from pprint import pprint\n",
      "from dateutil import parser\n",
      "from bs4 import BeautifulSoup\n",
      "from pysurvey.plot import setup, line, legend, box, dateticks\n",
      "from matplotlib.dates import date2num"
     ],
     "language": "python",
     "metadata": {},
     "outputs": [],
     "prompt_number": 1
    },
    {
     "cell_type": "markdown",
     "metadata": {},
     "source": [
      "# Faculty sort"
     ]
    },
    {
     "cell_type": "code",
     "collapsed": false,
     "input": [
      "data = json.load(open('faculty_2014.json'))\n",
      "# data = json.load(open('postdoc_2014.json'))"
     ],
     "language": "python",
     "metadata": {},
     "outputs": []
    },
    {
     "cell_type": "code",
     "collapsed": false,
     "input": [
      "len(data), type(data), np.array(data[0].keys())"
     ],
     "language": "python",
     "metadata": {},
     "outputs": [
      {
       "metadata": {},
       "output_type": "pyout",
       "prompt_number": 3,
       "text": [
        "(8,\n",
        " list,\n",
        " array([u'comment', u'newver', u'oldver', u'source', u'version', u'user',\n",
        "        u'date', u'preview', u'changes'], \n",
        "       dtype='<U7'))"
       ]
      }
     ],
     "prompt_number": 3
    },
    {
     "cell_type": "code",
     "collapsed": false,
     "input": [
      "np.array([x.get('newver', 0) for x in data])"
     ],
     "language": "python",
     "metadata": {},
     "outputs": [
      {
       "metadata": {},
       "output_type": "pyout",
       "prompt_number": 4,
       "text": [
        "array([2, 3, 4, 5, 6, 7, 8, 9])"
       ]
      }
     ],
     "prompt_number": 4
    },
    {
     "cell_type": "code",
     "collapsed": false,
     "input": [
      "dates = np.array([parser.parse(x['date']) for x in data])\n",
      "changes = np.array([len(x['comment']) for x in data])\n",
      "changes = np.array([len(x['changes']) for x in data])"
     ],
     "language": "python",
     "metadata": {},
     "outputs": [],
     "prompt_number": 5
    },
    {
     "cell_type": "code",
     "collapsed": false,
     "input": [
      "setup(figsize=(6,6),\n",
      "      xlabel='Date', \n",
      "      ylabel='Length of Changes')\n",
      "plot(date2num(dates),changes, 's')\n",
      "dateticks()"
     ],
     "language": "python",
     "metadata": {},
     "outputs": [
      {
       "metadata": {},
       "output_type": "display_data",
       "png": "[encoded data removed]",
       "text": [
        "<matplotlib.figure.Figure at 0x113df8590>"
       ]
      }
     ],
     "prompt_number": 9
    },
    {
     "cell_type": "code",
     "collapsed": false,
     "input": [
      "def parse_preview_table(s):\n",
      "    header = []\n",
      "    rows = []\n",
      "    for i, tr in enumerate(s.find_all('tr')):\n",
      "        if i == 0:\n",
      "            # it is not clear if i need this since \n",
      "            # they are special th values\n",
      "            for th in tr.find_all('th'):\n",
      "                header.append(th.text.strip())\n",
      "        else:\n",
      "            tmp = []\n",
      "            \n",
      "            # populate the links\n",
      "            for a in tr.find_all('a'):\n",
      "                a.insert_after('[{} {}]'.format(a['href'], a.text.strip())\n",
      "                                        .replace('a ] d','ad]'))\n",
      "                a.extract()\n",
      "            \n",
      "            # populate the bolded people\n",
      "            for strong in tr.find_all('strong'):\n",
      "                strong.insert_after(u'*{}*'.format(strong.text.strip()))\n",
      "                strong.extract()\n",
      "            \n",
      "            # Get the columns of the row\n",
      "            tmp.extend([' '.join(td.text.strip()\n",
      "                                   .replace('(          )','')\n",
      "                                   .split())\n",
      "                        for td in tr.find_all('td')])\n",
      "            \n",
      "            # create a simple tag for the intro\n",
      "            tmp.insert(0,tmp[0].split('(')[0].strip())\n",
      "            \n",
      "            rows.append(tmp)\n",
      "    return header, rows\n",
      "\n",
      "def get_title(soup):\n",
      "    try:\n",
      "        # crawl up the tree ten times.\n",
      "        for i in range(10):\n",
      "            s = soup.previous_element.strip()\n",
      "            if len(s) > 0:\n",
      "                return s\n",
      "            else:\n",
      "                soup = soup.previous_element\n",
      "    except Exception as e:\n",
      "        print e\n",
      "        return 'No Title found'\n",
      "\n",
      "    \n",
      "def print_title(title):\n",
      "    print '-'*40\n",
      "    print title\n",
      "    print '-'*40\n",
      "\n",
      "def print_row(header, rows):\n",
      "#     print header\n",
      "    for row\n",
      "    pprint(rows[:])\n",
      "\n",
      "def parse_preview_faculty(soup):\n",
      "    for s in soup.find_all('table',{'class':'wikitable'}):\n",
      "        print_title(get_title(s))\n",
      "        print_row(*parse_preview_table(s))\n",
      "#         header, rows = \n",
      "#         print header\n",
      "#         pprint(rows[:])\n",
      "\n",
      "#         print header\n",
      "#         break\n",
      "#     print soup.prettify()\n",
      "\n",
      "soup = BeautifulSoup(data[-1]['preview'])\n",
      "parse_preview_faculty(soup)\n",
      "\n",
      "# Need to sort and filter"
     ],
     "language": "python",
     "metadata": {},
     "outputs": [
      {
       "output_type": "stream",
       "stream": "stdout",
       "text": [
        "----------------------------------------\n",
        "Tenure Track Faculty Positions\n",
        "----------------------------------------\n",
        "[[u'Institution', u'Institution (ad link)', ''],\n",
        " [u'Brigham Young',\n",
        "  u'Brigham Young ( [http://careers.aps.org/jobs/6299296/faculty-position ad] )',\n",
        "  u'Due October 1, 2014'],\n",
        " [u'U. of Chicago',\n",
        "  u'U. of Chicago ( [http://careers.aps.org/jobs/6344193/faculty-positions-in-astronomy-astrophysics ad] )',\n",
        "  u'Due October 16, 2014'],\n",
        " [u'Cal State Fullerton',\n",
        "  u'Cal State Fullerton (Physics and/or Astronomy Education Research, [http://careers.aps.org/jobs/6366984/physics-or-astronomy-education-research-tenure-track ad] )',\n",
        "  u'Due October 1, 2014'],\n",
        " [u'Humboldt State',\n",
        "  u'Humboldt State ( [http://sciencefacultyjobs.com/index.php?option=com_noah&Itemid=35&v=g&method=showdetails&list=advertisement&rollid=5944&fromfromlist=classifiedscategory&fromfrommethod=showhtmllist&fromfromid=10 ad] )',\n",
        "  u'Due September 29, 2014'],\n",
        " [u'IA-UNAM Mexico City',\n",
        "  u'IA-UNAM Mexico City ( [https://jobregister.aas.org/job_view?JobID=48527 ad] )',\n",
        "  u'Due October 7, 2014'],\n",
        " [u'IA-UNAM Ensenada',\n",
        "  u'IA-UNAM Ensenada ( [https://jobregister.aas.org/job_view?JobID=48527 ad] )',\n",
        "  u'Due October 7, 2014']]\n",
        "----------------------------------------\n",
        "Science Staff and Management Positions\n",
        "----------------------------------------\n",
        "[[u'Institution', u'Institution (ad link)', '']]\n",
        "----------------------------------------\n",
        "Faculty Shuffle\n",
        "----------------------------------------\n",
        "[[u'Wendy Freedman',\n",
        "  u'Wendy Freedman',\n",
        "  u'Carnegie Observatories',\n",
        "  u'University of Chicago']]\n"
       ]
      }
     ],
     "prompt_number": 14
    },
    {
     "cell_type": "markdown",
     "metadata": {},
     "source": [
      "# Postdocs"
     ]
    },
    {
     "cell_type": "code",
     "collapsed": false,
     "input": [
      "postdoc = json.load(open('postdoc_2014.json'))"
     ],
     "language": "python",
     "metadata": {},
     "outputs": [],
     "prompt_number": 12
    },
    {
     "cell_type": "code",
     "collapsed": false,
     "input": [
      "psoup = BeautifulSoup(postdoc[-1]['preview'])\n",
      "parse_preview_faculty(psoup)"
     ],
     "language": "python",
     "metadata": {},
     "outputs": [
      {
       "output_type": "stream",
       "stream": "stdout",
       "text": [
        "----------------------------------------\n",
        "Postdoc\u00a0or term positions\n",
        "----------------------------------------\n",
        "[u'Place/Institution (alphabetical)', u'People (in boldface if accepted)']\n",
        "[[u'National Observatory of Athens',\n",
        "  u'National Observatory of Athens (IAASARS), 2-yr postdoc in IR ex-gal w/Xilouris-Charmandaris ( [http://www.astro.noa.gr/en/jobopenings/documents/ir_postdoc_noa.pdf ad] )',\n",
        "  u'Due Oct. 1st 2014, or until position filled.'],\n",
        " [u'University College London',\n",
        "  u'University College London (weak lensing [https://jobregister.aas.org/node/48464 ad] )',\n",
        "  u'Due Sep. 30th 2014,'],\n",
        " [u'University of Pennsylvania',\n",
        "  u'University of Pennsylvania (exoplanets w/Blake [http://sites.sas.upenn.edu/chblake/chblake/files/postdoc_ad.pdf ad] )',\n",
        "  ''],\n",
        " [u'Title', u'Title ( [ ad] )', '']]\n"
       ]
      }
     ],
     "prompt_number": 13
    },
    {
     "cell_type": "code",
     "collapsed": false,
     "input": [],
     "language": "python",
     "metadata": {},
     "outputs": []
    }
   ],
   "metadata": {}
  }
 ]
}