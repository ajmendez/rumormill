{
 "metadata": {
  "name": "",
  "signature": "sha256:3a04dd11dd412558ee5c53f3b75c411d479866ec956a4535f58b7c6e61b2f3ff"
 },
 "nbformat": 3,
 "nbformat_minor": 0,
 "worksheets": [
  {
   "cells": [
    {
     "cell_type": "code",
     "collapsed": false,
     "input": [
      "import copy \n",
      "import mill\n",
      "import urllib\n",
      "import requests\n",
      "from pprint import pprint\n",
      "from bs4 import BeautifulSoup\n",
      "from dateutil.parser import parse"
     ],
     "language": "python",
     "metadata": {},
     "outputs": [],
     "prompt_number": 1
    },
    {
     "cell_type": "code",
     "collapsed": false,
     "input": [
      "def urlencode_withoutplus(query):\n",
      "    if hasattr(query, 'items'):\n",
      "        query = query.items()\n",
      "    l = []\n",
      "    for k, v in query:\n",
      "        k = urllib.quote(str(k), safe=' /+')\n",
      "        v = urllib.quote(str(v), safe=' /+')\n",
      "        l.append(k + '=' + v)\n",
      "    return '?'+'&'.join(l)"
     ],
     "language": "python",
     "metadata": {},
     "outputs": [],
     "prompt_number": 2
    },
    {
     "cell_type": "code",
     "collapsed": false,
     "input": [
      "reload(mill);"
     ],
     "language": "python",
     "metadata": {},
     "outputs": [],
     "prompt_number": 3
    },
    {
     "cell_type": "code",
     "collapsed": false,
     "input": [
      "HISTORY_URL = 'http://www.astrobetter.com/wiki/tiki-lastchanges.php?days=0&offset=25'\n",
      "HISTORY_PARAMS = dict(days=0,\n",
      "                      offset=25)\n",
      "\n",
      "def parse_history(delta=25):\n",
      "    result = requests.get(HISTORY_URL+urlencode_withoutplus(HISTORY_PARAMS))\n",
      "\n",
      "    \n",
      "    "
     ],
     "language": "python",
     "metadata": {},
     "outputs": [],
     "prompt_number": 4
    },
    {
     "cell_type": "code",
     "collapsed": false,
     "input": [
      "FILENAME = 'mill_2014.json'\n",
      "PAGE_URL = 'http://www.astrobetter.com/wiki/tiki-pagehistory.php'\n",
      "PARAMS = dict(page=r'Rumor+Mill',\n",
      "              diff_style='sidediff',\n",
      "              compare='Compare',\n",
      "              newver=1162,\n",
      "              oldver=1161,\n",
      "              paginate='on',\n",
      "              history_offset=0,\n",
      "              history_pagesize=25,\n",
      "              show_all_versions='y',\n",
      "              )\n",
      "# http://www.astrobetter.com/wiki/tiki-pagehistory.php?page=Rumor+Mill&history_offset=0&diff_style=inlinediff-char&show_all_versions=y&compare=Compare&newver=0&oldver=1162&paginate=on&history_pagesize=25\n",
      "# http://www.astrobetter.com/wiki/tiki-pagehistory.php?\n",
      "#     page=Rumor+Mill&\n",
      "#     history_offset=0&\n",
      "#     diff_style=sidediff&\n",
      "#     show_all_versions=y&\n",
      "#     compare=Compare&\n",
      "#     newver=1162&\n",
      "#     oldver=1161&\n",
      "#     paginate=on&\n",
      "#     history_pagesize=25"
     ],
     "language": "python",
     "metadata": {},
     "outputs": [],
     "prompt_number": 5
    },
    {
     "cell_type": "code",
     "collapsed": false,
     "input": [
      "# result = requests.get(URL, params=PARAMS)\n",
      "result = requests.get(PAGE_URL+urlencode_withoutplus(PARAMS))\n",
      "print result.url\n",
      "# result = requests.get('http://www.astrobetter.com/wiki/tiki-pagehistory.php?page=Rumor+Mill&history_offset=0&diff_style=sidediff&show_all_versions=y&compare=Compare&newver=1162&oldver=1161&paginate=on&history_pagesize=25')\n",
      "# with mill.Data('mill_2014.json')"
     ],
     "language": "python",
     "metadata": {},
     "outputs": [
      {
       "output_type": "stream",
       "stream": "stdout",
       "text": [
        "http://www.astrobetter.com/wiki/tiki-pagehistory.php?history_offset=0&compare=Compare&paginate=on&history_pagesize=25&oldver=1161&newver=1162&diff_style=sidediff&show_all_versions=y&page=Rumor+Mill\n"
       ]
      }
     ],
     "prompt_number": 7
    },
    {
     "cell_type": "code",
     "collapsed": false,
     "input": [
      "def get_lines(soup):\n",
      "    for x in soup.find_all('tr',{'class':'diffheader'}):\n",
      "        lines = map(int, x.find('td').text\n",
      "                          .split(':')[1]\n",
      "                          .replace(u'\\xa0','')\n",
      "                          .split('-'))\n",
      "        yield lines\n",
      "\n",
      "def get_changes(soup):\n",
      "    '''Currently get the before and after text without styling.\n",
      "    delete anything with diffinldel span, add diffadded text'''\n",
      "    first = True\n",
      "    for x in soup.find_all('tr',{'class':'diffbody'}):\n",
      "        if not first:\n",
      "            [item.extract() for item in x.find_all('span',{'class':'diffinldel'})]\n",
      "            first = False\n",
      "        for item in x.find_all('br'):\n",
      "            item.insert_after('\\n')\n",
      "            item.extract()\n",
      "            \n",
      "        yield x.find('td').text.replace(u'\\xa0',' ')\n",
      "\n",
      "def get_info(soup):\n",
      "    '''Get the info for the change'''\n",
      "    items = ['date','user','comment','version']\n",
      "    s = soup.find('strong').findParents()[1]\n",
      "    out = {}\n",
      "    for td,item in zip(s.find_all('td'), items):\n",
      "        fcn = parse if (item == 'date') else lambda x: x\n",
      "        out[item] = fcn(td.text.strip())\n",
      "    return out\n",
      "\n",
      "\n",
      "soup = BeautifulSoup(result.text).find('table', {'class':['normal','diff']})\n",
      "soup2 = (BeautifulSoup(result.text).find('div', {'style':['text-align:center;']})\n",
      "                                   .find('table',{'class':'normal'}) )\n",
      "# list(get_lines(soup))\n",
      "# list(get_changes(soup))\n",
      "get_info(soup2)"
     ],
     "language": "python",
     "metadata": {},
     "outputs": [
      {
       "metadata": {},
       "output_type": "pyout",
       "prompt_number": 8,
       "text": [
        "{'comment': u'',\n",
        " 'date': datetime.datetime(2014, 6, 5, 20, 27),\n",
        " 'user': u'anonymous',\n",
        " 'version': u'1162'}"
       ]
      }
     ],
     "prompt_number": 8
    },
    {
     "cell_type": "code",
     "collapsed": false,
     "input": [
      "def get_change():\n",
      "    result = requests.get(PAGE_URL+urlencode_withoutplus(PARAMS))\n",
      "    print result.url\n",
      "    soup = BeautifulSoup(result.text).find('table', {'class':['normal','diff']})\n",
      "    soup2 = (BeautifulSoup(result.text).find('div', {'style':['text-align:center;']})\n",
      "                                       .find('table',{'class':'normal'}) )\n",
      "    #\n",
      "    out = get_info(soup2)\n",
      "    out['lines'] = list(get_lines(soup))\n",
      "    out['changes'] = list(get_changes(soup))\n",
      "    pprint(out)\n",
      "    return out\n",
      "    \n",
      "def get_data():\n",
      "    with mill.Data(FILENAME) as data:\n",
      "        versions = [x['version'] for x in data]\n",
      "        while PARAMS['oldver'] > 0:\n",
      "            if PARAMS['newver'] in versions:\n",
      "                continue\n",
      "            data.data.insert(0, get_change())\n",
      "            PARAMS['oldver'] -= 1\n",
      "            PARAMS['newver'] -= 1\n",
      "        return data.data\n",
      "        \n",
      "\n",
      "data = get_data()"
     ],
     "language": "python",
     "metadata": {},
     "outputs": [
      {
       "output_type": "stream",
       "stream": "stdout",
       "text": [
        "http://www.astrobetter.com/wiki/tiki-pagehistory.php?history_offset=0&compare=Compare&paginate=on&history_pagesize=25&oldver=1161&newver=1162&diff_style=sidediff&show_all_versions=y&page=Rumor+Mill\n",
        "{"
       ]
      },
      {
       "output_type": "stream",
       "stream": "stdout",
       "text": [
        "'changes': [u' ', u' ', u' '],\n",
        " 'comment': u'',\n",
        " 'date': datetime.datetime(2014, 6, 5, 20, 27),\n",
        " 'lines': [[1840, 1843]],\n",
        " 'user': u'anonymous',\n",
        " 'version': u'1162'}\n",
        "http://www.astrobetter.com/wiki/tiki-pagehistory.php?history_offset=0&compare=Compare&paginate=on&history_pagesize=25&oldver=1160&newver=1161&diff_style=sidediff&show_all_versions=y&page=Rumor+Mill"
       ]
      },
      {
       "output_type": "stream",
       "stream": "stdout",
       "text": [
        "\n",
        "{"
       ]
      },
      {
       "output_type": "stream",
       "stream": "stdout",
       "text": [
        "'changes': [u' ', u' ', u' '],\n",
        " 'comment': u'added University of Geneva (with Schaerer,)',\n",
        " 'date': datetime.datetime(2014, 6, 3, 11, 58),\n",
        " 'lines': [[2216, 2219]],\n",
        " 'user': u'anonymous',\n",
        " 'version': u'1161'}\n",
        "http://www.astrobetter.com/wiki/tiki-pagehistory.php?history_offset=0&compare=Compare&paginate=on&history_pagesize=25&oldver=1159&newver=1160&diff_style=sidediff&show_all_versions=y&page=Rumor+Mill"
       ]
      },
      {
       "output_type": "stream",
       "stream": "stdout",
       "text": [
        "\n",
        "{"
       ]
      },
      {
       "output_type": "stream",
       "stream": "stdout",
       "text": [
        "'changes': [u' ', u' ', u' '],\n",
        " 'comment': u'[rollback version 1158]',\n",
        " 'date': datetime.datetime(2014, 5, 21, 9, 17),\n",
        " 'lines': [[536, 547]],\n",
        " 'user': u'anonymous',\n",
        " 'version': u'1160'}\n",
        "http://www.astrobetter.com/wiki/tiki-pagehistory.php?history_offset=0&compare=Compare&paginate=on&history_pagesize=25&oldver=1158&newver=1159&diff_style=sidediff&show_all_versions=y&page=Rumor+Mill"
       ]
      },
      {
       "output_type": "stream",
       "stream": "stdout",
       "text": [
        "\n",
        "{"
       ]
      },
      {
       "output_type": "stream",
       "stream": "stdout",
       "text": [
        "'changes': [u' ', u' ', u' '],\n",
        " 'comment': u'Dublin Institute for Advanced Studies',\n",
        " 'date': datetime.datetime(2014, 5, 30, 6, 12),\n",
        " 'lines': [[536, 539]],\n",
        " 'user': u'rainsworth',\n",
        " 'version': u'1159'}\n",
        "http://www.astrobetter.com/wiki/tiki-pagehistory.php?history_offset=0&compare=Compare&paginate=on&history_pagesize=25&oldver=1157&newver=1158&diff_style=sidediff&show_all_versions=y&page=Rumor+Mill"
       ]
      },
      {
       "output_type": "stream",
       "stream": "stdout",
       "text": [
        "\n",
        "{"
       ]
      },
      {
       "output_type": "stream",
       "stream": "stdout",
       "text": [
        "'changes': [u' ', u' ', u' '],\n",
        " 'comment': u'',\n",
        " 'date': datetime.datetime(2014, 5, 21, 9, 17),\n",
        " 'lines': [[1248, 1251]],\n",
        " 'user': u'anonymous',\n",
        " 'version': u'1158'}\n",
        "http://www.astrobetter.com/wiki/tiki-pagehistory.php?history_offset=0&compare=Compare&paginate=on&history_pagesize=25&oldver=1156&newver=1157&diff_style=sidediff&show_all_versions=y&page=Rumor+Mill"
       ]
      },
      {
       "output_type": "stream",
       "stream": "stdout",
       "text": [
        "\n",
        "{"
       ]
      },
      {
       "output_type": "stream",
       "stream": "stdout",
       "text": [
        "'changes': [u' ', u' '],\n",
        " 'comment': u'OSU CCAPP',\n",
        " 'date': datetime.datetime(2014, 5, 16, 3, 42),\n",
        " 'lines': [[1663, 1667]],\n",
        " 'user': u'anonymous',\n",
        " 'version': u'1157'}\n",
        "http://www.astrobetter.com/wiki/tiki-pagehistory.php?history_offset=0&compare=Compare&paginate=on&history_pagesize=25&oldver=1155&newver=1156&diff_style=sidediff&show_all_versions=y&page=Rumor+Mill"
       ]
      },
      {
       "output_type": "stream",
       "stream": "stdout",
       "text": [
        "\n",
        "{"
       ]
      },
      {
       "output_type": "stream",
       "stream": "stdout",
       "text": [
        "'changes': [u' ', u' '],\n",
        " 'comment': u'Ashley Ross OSU CCAPP',\n",
        " 'date': datetime.datetime(2014, 5, 16, 3, 39),\n",
        " 'lines': [[1663, 1667]],\n",
        " 'user': u'anonymous',\n",
        " 'version': u'1156'}\n",
        "http://www.astrobetter.com/wiki/tiki-pagehistory.php?history_offset=0&compare=Compare&paginate=on&history_pagesize=25&oldver=1154&newver=1155&diff_style=sidediff&show_all_versions=y&page=Rumor+Mill"
       ]
      },
      {
       "output_type": "stream",
       "stream": "stdout",
       "text": [
        "\n",
        "{"
       ]
      },
      {
       "output_type": "stream",
       "stream": "stdout",
       "text": [
        "'changes': [u' ', u' '],\n",
        " 'comment': u'',\n",
        " 'date': datetime.datetime(2014, 5, 11, 5, 34),\n",
        " 'lines': [[943, 947]],\n",
        " 'user': u'anonymous',\n",
        " 'version': u'1155'}\n",
        "http://www.astrobetter.com/wiki/tiki-pagehistory.php?history_offset=0&compare=Compare&paginate=on&history_pagesize=25&oldver=1153&newver=1154&diff_style=sidediff&show_all_versions=y&page=Rumor+Mill"
       ]
      },
      {
       "output_type": "stream",
       "stream": "stdout",
       "text": [
        "\n",
        "{"
       ]
      },
      {
       "output_type": "stream",
       "stream": "stdout",
       "text": [
        "'changes': [u' ', u' ', u' '],\n",
        " 'comment': u'',\n",
        " 'date': datetime.datetime(2014, 5, 6, 15, 28),\n",
        " 'lines': [[64, 67]],\n",
        " 'user': u'aberlind',\n",
        " 'version': u'1154'}\n",
        "http://www.astrobetter.com/wiki/tiki-pagehistory.php?history_offset=0&compare=Compare&paginate=on&history_pagesize=25&oldver=1152&newver=1153&diff_style=sidediff&show_all_versions=y&page=Rumor+Mill"
       ]
      },
      {
       "output_type": "stream",
       "stream": "stdout",
       "text": [
        "\n",
        "{"
       ]
      },
      {
       "output_type": "stream",
       "stream": "stdout",
       "text": [
        "'changes': [u' ', u' '],\n",
        " 'comment': u'',\n",
        " 'date': datetime.datetime(2014, 5, 5, 15, 9),\n",
        " 'lines': [[1295, 1299]],\n",
        " 'user': u'anonymous',\n",
        " 'version': u'1153'}\n",
        "http://www.astrobetter.com/wiki/tiki-pagehistory.php?history_offset=0&compare=Compare&paginate=on&history_pagesize=25&oldver=1151&newver=1152&diff_style=sidediff&show_all_versions=y&page=Rumor+Mill"
       ]
      },
      {
       "output_type": "stream",
       "stream": "stdout",
       "text": [
        "\n",
        "{"
       ]
      },
      {
       "output_type": "stream",
       "stream": "stdout",
       "text": [
        "'changes': [u' ', u' ', u' '],\n",
        " 'comment': u'added job for Oxford',\n",
        " 'date': datetime.datetime(2014, 5, 2, 5, 56),\n",
        " 'lines': [[1680, 1683]],\n",
        " 'user': u'ralph.schoenrich',\n",
        " 'version': u'1152'}\n",
        "http://www.astrobetter.com/wiki/tiki-pagehistory.php?history_offset=0&compare=Compare&paginate=on&history_pagesize=25&oldver=1150&newver=1151&diff_style=sidediff&show_all_versions=y&page=Rumor+Mill"
       ]
      },
      {
       "output_type": "stream",
       "stream": "stdout",
       "text": [
        "\n",
        "{"
       ]
      },
      {
       "output_type": "stream",
       "stream": "stdout",
       "text": [
        "'changes': [u' ', u' '],\n",
        " 'comment': u'',\n",
        " 'date': datetime.datetime(2014, 4, 28, 2, 37),\n",
        " 'lines': [[1039, 1043]],\n",
        " 'user': u'anonymous',\n",
        " 'version': u'1151'}\n",
        "http://www.astrobetter.com/wiki/tiki-pagehistory.php?history_offset=0&compare=Compare&paginate=on&history_pagesize=25&oldver=1149&newver=1150&diff_style=sidediff&show_all_versions=y&page=Rumor+Mill"
       ]
      },
      {
       "output_type": "stream",
       "stream": "stdout",
       "text": [
        "\n",
        "{"
       ]
      },
      {
       "output_type": "stream",
       "stream": "stdout",
       "text": [
        "'changes': [u' ', u' '],\n",
        " 'comment': u'',\n",
        " 'date': datetime.datetime(2014, 4, 27, 22, 40),\n",
        " 'lines': [[1639, 1643]],\n",
        " 'user': u'kn',\n",
        " 'version': u'1150'}\n",
        "http://www.astrobetter.com/wiki/tiki-pagehistory.php?history_offset=0&compare=Compare&paginate=on&history_pagesize=25&oldver=1148&newver=1149&diff_style=sidediff&show_all_versions=y&page=Rumor+Mill"
       ]
      },
      {
       "output_type": "stream",
       "stream": "stdout",
       "text": [
        "\n",
        "{"
       ]
      },
      {
       "output_type": "stream",
       "stream": "stdout",
       "text": [
        "'changes': [u' ', u' '],\n",
        " 'comment': u'',\n",
        " 'date': datetime.datetime(2014, 4, 27, 8, 12),\n",
        " 'lines': [[1551, 1555]],\n",
        " 'user': u'anonymous',\n",
        " 'version': u'1149'}\n",
        "http://www.astrobetter.com/wiki/tiki-pagehistory.php?history_offset=0&compare=Compare&paginate=on&history_pagesize=25&oldver=1147&newver=1148&diff_style=sidediff&show_all_versions=y&page=Rumor+Mill"
       ]
      },
      {
       "output_type": "stream",
       "stream": "stdout",
       "text": [
        "\n",
        "{"
       ]
      },
      {
       "output_type": "stream",
       "stream": "stdout",
       "text": [
        "'changes': [u' ', u' '],\n",
        " 'comment': u'',\n",
        " 'date': datetime.datetime(2014, 4, 25, 12, 34),\n",
        " 'lines': [[2039, 2043]],\n",
        " 'user': u'anonymous',\n",
        " 'version': u'1148'}\n",
        "http://www.astrobetter.com/wiki/tiki-pagehistory.php?history_offset=0&compare=Compare&paginate=on&history_pagesize=25&oldver=1146&newver=1147&diff_style=sidediff&show_all_versions=y&page=Rumor+Mill"
       ]
      },
      {
       "output_type": "stream",
       "stream": "stdout",
       "text": [
        "\n",
        "{"
       ]
      },
      {
       "output_type": "stream",
       "stream": "stdout",
       "text": [
        "'changes': [u' ', u' ', u' '],\n",
        " 'comment': u'\"astrastrochemistry and star/planet formation\" positions at MPE are in new CAS@MPE group led by Paola Caselli',\n",
        " 'date': datetime.datetime(2014, 4, 25, 1, 55),\n",
        " 'lines': [[1404, 1408]],\n",
        " 'user': u'anonymous',\n",
        " 'version': u'1147'}\n",
        "http://www.astrobetter.com/wiki/tiki-pagehistory.php?history_offset=0&compare=Compare&paginate=on&history_pagesize=25&oldver=1145&newver=1146&diff_style=sidediff&show_all_versions=y&page=Rumor+Mill"
       ]
      },
      {
       "output_type": "stream",
       "stream": "stdout",
       "text": [
        "\n",
        "{"
       ]
      },
      {
       "output_type": "stream",
       "stream": "stdout",
       "text": [
        "'changes': [u' ', u' '],\n",
        " 'comment': u'Edited \"University of Leeds (4 positions in star formation, ad)\"',\n",
        " 'date': datetime.datetime(2014, 4, 22, 14, 39),\n",
        " 'lines': [[2231, 2235]],\n",
        " 'user': u'anonymous',\n",
        " 'version': u'1146'}\n",
        "http://www.astrobetter.com/wiki/tiki-pagehistory.php?history_offset=0&compare=Compare&paginate=on&history_pagesize=25&oldver=1144&newver=1145&diff_style=sidediff&show_all_versions=y&page=Rumor+Mill"
       ]
      },
      {
       "output_type": "stream",
       "stream": "stdout",
       "text": [
        "\n",
        "{"
       ]
      },
      {
       "output_type": "stream",
       "stream": "stdout",
       "text": [
        "'changes': [u' ', u' '],\n",
        " 'comment': u'',\n",
        " 'date': datetime.datetime(2014, 4, 20, 21, 48),\n",
        " 'lines': [[407, 411]],\n",
        " 'user': u'dabrusco',\n",
        " 'version': u'1145'}\n",
        "http://www.astrobetter.com/wiki/tiki-pagehistory.php?history_offset=0&compare=Compare&paginate=on&history_pagesize=25&oldver=1143&newver=1144&diff_style=sidediff&show_all_versions=y&page=Rumor+Mill"
       ]
      },
      {
       "output_type": "stream",
       "stream": "stdout",
       "text": [
        "\n",
        "{"
       ]
      },
      {
       "output_type": "stream",
       "stream": "stdout",
       "text": [
        "'changes': [u' ', u' ', u' ', u' '],\n",
        " 'comment': u'',\n",
        " 'date': datetime.datetime(2014, 4, 16, 15, 41),\n",
        " 'lines': [[815, 819], [1551, 1555]],\n",
        " 'user': u'anonymous',\n",
        " 'version': u'1144'}\n",
        "http://www.astrobetter.com/wiki/tiki-pagehistory.php?history_offset=0&compare=Compare&paginate=on&history_pagesize=25&oldver=1142&newver=1143&diff_style=sidediff&show_all_versions=y&page=Rumor+Mill"
       ]
      },
      {
       "output_type": "stream",
       "stream": "stdout",
       "text": [
        "\n",
        "{"
       ]
      },
      {
       "output_type": "stream",
       "stream": "stdout",
       "text": [
        "'changes': [u' ', u' '],\n",
        " 'comment': u'Updated Caltech Prize Fellowships',\n",
        " 'date': datetime.datetime(2014, 4, 15, 18, 44),\n",
        " 'lines': [[271, 275]],\n",
        " 'user': u'cchayward',\n",
        " 'version': u'1143'}\n",
        "http://www.astrobetter.com/wiki/tiki-pagehistory.php?history_offset=0&compare=Compare&paginate=on&history_pagesize=25&oldver=1141&newver=1142&diff_style=sidediff&show_all_versions=y&page=Rumor+Mill"
       ]
      },
      {
       "output_type": "stream",
       "stream": "stdout",
       "text": [
        "\n",
        "{"
       ]
      },
      {
       "output_type": "stream",
       "stream": "stdout",
       "text": [
        "'changes': [u' ', u' '],\n",
        " 'comment': u'',\n",
        " 'date': datetime.datetime(2014, 4, 15, 8, 28),\n",
        " 'lines': [[1751, 1755]],\n",
        " 'user': u'anonymous',\n",
        " 'version': u'1142'}\n",
        "http://www.astrobetter.com/wiki/tiki-pagehistory.php?history_offset=0&compare=Compare&paginate=on&history_pagesize=25&oldver=1140&newver=1141&diff_style=sidediff&show_all_versions=y&page=Rumor+Mill"
       ]
      },
      {
       "output_type": "stream",
       "stream": "stdout",
       "text": [
        "\n",
        "{"
       ]
      },
      {
       "output_type": "stream",
       "stream": "stdout",
       "text": [
        "'changes': [u' ', u' '],\n",
        " 'comment': u'',\n",
        " 'date': datetime.datetime(2014, 4, 13, 22, 2),\n",
        " 'lines': [[695, 699]],\n",
        " 'user': u'anonymous',\n",
        " 'version': u'1141'}\n",
        "http://www.astrobetter.com/wiki/tiki-pagehistory.php?history_offset=0&compare=Compare&paginate=on&history_pagesize=25&oldver=1139&newver=1140&diff_style=sidediff&show_all_versions=y&page=Rumor+Mill"
       ]
      },
      {
       "output_type": "stream",
       "stream": "stdout",
       "text": [
        "\n",
        "{"
       ]
      },
      {
       "output_type": "stream",
       "stream": "stdout",
       "text": [
        "'changes': [u' ', u' '],\n",
        " 'comment': u'',\n",
        " 'date': datetime.datetime(2014, 4, 13, 21, 59),\n",
        " 'lines': [[559, 563]],\n",
        " 'user': u'anonymous',\n",
        " 'version': u'1140'}\n",
        "http://www.astrobetter.com/wiki/tiki-pagehistory.php?history_offset=0&compare=Compare&paginate=on&history_pagesize=25&oldver=1138&newver=1139&diff_style=sidediff&show_all_versions=y&page=Rumor+Mill"
       ]
      },
      {
       "output_type": "stream",
       "stream": "stdout",
       "text": [
        "\n",
        "{"
       ]
      },
      {
       "output_type": "stream",
       "stream": "stdout",
       "text": [
        "'changes': [],\n",
        " 'comment': u'Offer accepted',\n",
        " 'date': datetime.datetime(2014, 4, 11, 9, 26),\n",
        " 'lines': [],\n",
        " 'user': u'anonymous',\n",
        " 'version': u'1139'}\n",
        "http://www.astrobetter.com/wiki/tiki-pagehistory.php?history_offset=0&compare=Compare&paginate=on&history_pagesize=25&oldver=1137&newver=1138&diff_style=sidediff&show_all_versions=y&page=Rumor+Mill"
       ]
      },
      {
       "ename": "AttributeError",
       "evalue": "'NoneType' object has no attribute 'findParents'",
       "output_type": "pyerr",
       "traceback": [
        "\u001b[0;31m---------------------------------------------------------------------------\u001b[0m\n\u001b[0;31mAttributeError\u001b[0m                            Traceback (most recent call last)",
        "\u001b[0;32m<ipython-input-10-7aa01afd5ed3>\u001b[0m in \u001b[0;36m<module>\u001b[0;34m()\u001b[0m\n\u001b[1;32m     24\u001b[0m \u001b[0;34m\u001b[0m\u001b[0m\n\u001b[1;32m     25\u001b[0m \u001b[0;34m\u001b[0m\u001b[0m\n\u001b[0;32m---> 26\u001b[0;31m \u001b[0mdata\u001b[0m \u001b[0;34m=\u001b[0m \u001b[0mget_data\u001b[0m\u001b[0;34m(\u001b[0m\u001b[0;34m)\u001b[0m\u001b[0;34m\u001b[0m\u001b[0m\n\u001b[0m",
        "\u001b[0;32m<ipython-input-10-7aa01afd5ed3>\u001b[0m in \u001b[0;36mget_data\u001b[0;34m()\u001b[0m\n\u001b[1;32m     18\u001b[0m             \u001b[0;32mif\u001b[0m \u001b[0mPARAMS\u001b[0m\u001b[0;34m[\u001b[0m\u001b[0;34m'newver'\u001b[0m\u001b[0;34m]\u001b[0m \u001b[0;32min\u001b[0m \u001b[0mversions\u001b[0m\u001b[0;34m:\u001b[0m\u001b[0;34m\u001b[0m\u001b[0m\n\u001b[1;32m     19\u001b[0m                 \u001b[0;32mcontinue\u001b[0m\u001b[0;34m\u001b[0m\u001b[0m\n\u001b[0;32m---> 20\u001b[0;31m             \u001b[0mdata\u001b[0m\u001b[0;34m.\u001b[0m\u001b[0mdata\u001b[0m\u001b[0;34m.\u001b[0m\u001b[0minsert\u001b[0m\u001b[0;34m(\u001b[0m\u001b[0;36m0\u001b[0m\u001b[0;34m,\u001b[0m \u001b[0mget_change\u001b[0m\u001b[0;34m(\u001b[0m\u001b[0;34m)\u001b[0m\u001b[0;34m)\u001b[0m\u001b[0;34m\u001b[0m\u001b[0m\n\u001b[0m\u001b[1;32m     21\u001b[0m             \u001b[0mPARAMS\u001b[0m\u001b[0;34m[\u001b[0m\u001b[0;34m'oldver'\u001b[0m\u001b[0;34m]\u001b[0m \u001b[0;34m-=\u001b[0m \u001b[0;36m1\u001b[0m\u001b[0;34m\u001b[0m\u001b[0m\n\u001b[1;32m     22\u001b[0m             \u001b[0mPARAMS\u001b[0m\u001b[0;34m[\u001b[0m\u001b[0;34m'newver'\u001b[0m\u001b[0;34m]\u001b[0m \u001b[0;34m-=\u001b[0m \u001b[0;36m1\u001b[0m\u001b[0;34m\u001b[0m\u001b[0m\n",
        "\u001b[0;32m<ipython-input-10-7aa01afd5ed3>\u001b[0m in \u001b[0;36mget_change\u001b[0;34m()\u001b[0m\n\u001b[1;32m      6\u001b[0m                                        .find('table',{'class':'normal'}) )\n\u001b[1;32m      7\u001b[0m     \u001b[0;31m#\u001b[0m\u001b[0;34m\u001b[0m\u001b[0;34m\u001b[0m\u001b[0m\n\u001b[0;32m----> 8\u001b[0;31m     \u001b[0mout\u001b[0m \u001b[0;34m=\u001b[0m \u001b[0mget_info\u001b[0m\u001b[0;34m(\u001b[0m\u001b[0msoup2\u001b[0m\u001b[0;34m)\u001b[0m\u001b[0;34m\u001b[0m\u001b[0m\n\u001b[0m\u001b[1;32m      9\u001b[0m     \u001b[0mout\u001b[0m\u001b[0;34m[\u001b[0m\u001b[0;34m'lines'\u001b[0m\u001b[0;34m]\u001b[0m \u001b[0;34m=\u001b[0m \u001b[0mlist\u001b[0m\u001b[0;34m(\u001b[0m\u001b[0mget_lines\u001b[0m\u001b[0;34m(\u001b[0m\u001b[0msoup\u001b[0m\u001b[0;34m)\u001b[0m\u001b[0;34m)\u001b[0m\u001b[0;34m\u001b[0m\u001b[0m\n\u001b[1;32m     10\u001b[0m     \u001b[0mout\u001b[0m\u001b[0;34m[\u001b[0m\u001b[0;34m'changes'\u001b[0m\u001b[0;34m]\u001b[0m \u001b[0;34m=\u001b[0m \u001b[0mlist\u001b[0m\u001b[0;34m(\u001b[0m\u001b[0mget_changes\u001b[0m\u001b[0;34m(\u001b[0m\u001b[0msoup\u001b[0m\u001b[0;34m)\u001b[0m\u001b[0;34m)\u001b[0m\u001b[0;34m\u001b[0m\u001b[0m\n",
        "\u001b[0;32m<ipython-input-8-e0d0e93e4cb6>\u001b[0m in \u001b[0;36mget_info\u001b[0;34m(soup)\u001b[0m\n\u001b[1;32m     24\u001b[0m     \u001b[0;34m'''Get the info for the change'''\u001b[0m\u001b[0;34m\u001b[0m\u001b[0m\n\u001b[1;32m     25\u001b[0m     \u001b[0mitems\u001b[0m \u001b[0;34m=\u001b[0m \u001b[0;34m[\u001b[0m\u001b[0;34m'date'\u001b[0m\u001b[0;34m,\u001b[0m\u001b[0;34m'user'\u001b[0m\u001b[0;34m,\u001b[0m\u001b[0;34m'comment'\u001b[0m\u001b[0;34m,\u001b[0m\u001b[0;34m'version'\u001b[0m\u001b[0;34m]\u001b[0m\u001b[0;34m\u001b[0m\u001b[0m\n\u001b[0;32m---> 26\u001b[0;31m     \u001b[0ms\u001b[0m \u001b[0;34m=\u001b[0m \u001b[0msoup\u001b[0m\u001b[0;34m.\u001b[0m\u001b[0mfind\u001b[0m\u001b[0;34m(\u001b[0m\u001b[0;34m'strong'\u001b[0m\u001b[0;34m)\u001b[0m\u001b[0;34m.\u001b[0m\u001b[0mfindParents\u001b[0m\u001b[0;34m(\u001b[0m\u001b[0;34m)\u001b[0m\u001b[0;34m[\u001b[0m\u001b[0;36m1\u001b[0m\u001b[0;34m]\u001b[0m\u001b[0;34m\u001b[0m\u001b[0m\n\u001b[0m\u001b[1;32m     27\u001b[0m     \u001b[0mout\u001b[0m \u001b[0;34m=\u001b[0m \u001b[0;34m{\u001b[0m\u001b[0;34m}\u001b[0m\u001b[0;34m\u001b[0m\u001b[0m\n\u001b[1;32m     28\u001b[0m     \u001b[0;32mfor\u001b[0m \u001b[0mtd\u001b[0m\u001b[0;34m,\u001b[0m\u001b[0mitem\u001b[0m \u001b[0;32min\u001b[0m \u001b[0mzip\u001b[0m\u001b[0;34m(\u001b[0m\u001b[0ms\u001b[0m\u001b[0;34m.\u001b[0m\u001b[0mfind_all\u001b[0m\u001b[0;34m(\u001b[0m\u001b[0;34m'td'\u001b[0m\u001b[0;34m)\u001b[0m\u001b[0;34m,\u001b[0m \u001b[0mitems\u001b[0m\u001b[0;34m)\u001b[0m\u001b[0;34m:\u001b[0m\u001b[0;34m\u001b[0m\u001b[0m\n",
        "\u001b[0;31mAttributeError\u001b[0m: 'NoneType' object has no attribute 'findParents'"
       ]
      },
      {
       "output_type": "stream",
       "stream": "stdout",
       "text": [
        "\n"
       ]
      }
     ],
     "prompt_number": 10
    },
    {
     "cell_type": "code",
     "collapsed": false,
     "input": [
      "PARAMS"
     ],
     "language": "python",
     "metadata": {},
     "outputs": [
      {
       "metadata": {},
       "output_type": "pyout",
       "prompt_number": 61,
       "text": [
        "{'compare': 'Compare',\n",
        " 'diff_style': 'sidediff',\n",
        " 'history_offset': 0,\n",
        " 'history_pagesize': 25,\n",
        " 'newver': 1137,\n",
        " 'oldver': 1136,\n",
        " 'page': 'Rumor+Mill',\n",
        " 'paginate': 'on',\n",
        " 'show_all_versions': 'y'}"
       ]
      }
     ],
     "prompt_number": 61
    },
    {
     "cell_type": "code",
     "collapsed": false,
     "input": [],
     "language": "python",
     "metadata": {},
     "outputs": []
    }
   ],
   "metadata": {}
  }
 ]
}